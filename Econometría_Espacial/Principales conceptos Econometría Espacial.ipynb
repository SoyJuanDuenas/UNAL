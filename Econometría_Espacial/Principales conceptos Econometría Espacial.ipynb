{
 "cells": [
  {
   "cell_type": "markdown",
   "id": "fadb31b8",
   "metadata": {},
   "source": [
    "<center><h1>Econometría Espacial</h1></center>\n",
    "<center><h1>Universidad Nacional de Colombia</h1></center>\n",
    "<center><h2>Juan David Dueñas Garavito</h2></center>"
   ]
  },
  {
   "cell_type": "markdown",
   "id": "82ccb48e",
   "metadata": {},
   "source": [
    "<h3>Iniciamos importando librerias de nuestro interés</h3>"
   ]
  },
  {
   "cell_type": "code",
   "execution_count": 3,
   "id": "1e359674",
   "metadata": {},
   "outputs": [
    {
     "name": "stderr",
     "output_type": "stream",
     "text": [
      "Matplotlib is building the font cache; this may take a moment.\n"
     ]
    }
   ],
   "source": [
    "import pandas as pd\n",
    "import numpy as np\n",
    "import matplotlib as mp\n",
    "import seaborn as sb"
   ]
  }
 ],
 "metadata": {
  "kernelspec": {
   "display_name": "Python 3 (ipykernel)",
   "language": "python",
   "name": "python3"
  },
  "language_info": {
   "codemirror_mode": {
    "name": "ipython",
    "version": 3
   },
   "file_extension": ".py",
   "mimetype": "text/x-python",
   "name": "python",
   "nbconvert_exporter": "python",
   "pygments_lexer": "ipython3",
   "version": "3.9.13"
  }
 },
 "nbformat": 4,
 "nbformat_minor": 5
}
