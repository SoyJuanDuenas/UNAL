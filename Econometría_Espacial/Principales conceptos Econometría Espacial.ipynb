{
 "cells": [
  {
   "cell_type": "markdown",
   "id": "ccda94b0",
   "metadata": {},
   "source": [
    "<center><h1>Econometría Espacial</h1></center>\n",
    "<center><h1>Universidad Nacional de Colombia</h1></center>\n",
    "<center><h2>Juan David Dueñas Garavito</h2></center>"
   ]
  },
  {
   "cell_type": "markdown",
   "id": "df8187b9",
   "metadata": {},
   "source": [
    "<h3>Iniciamos importando librerias de nuestro interés</h3>"
   ]
  },
  {
   "cell_type": "code",
   "execution_count": 4,
   "id": "7407f0a4",
   "metadata": {},
   "outputs": [],
   "source": [
    "import pandas as pd\n",
    "import numpy as np\n",
    "import matplotlib as mp\n",
    "import seaborn as sb"
   ]
  }
 ],
 "metadata": {
  "kernelspec": {
   "display_name": "Python 3 (ipykernel)",
   "language": "python",
   "name": "python3"
  },
  "language_info": {
   "codemirror_mode": {
    "name": "ipython",
    "version": 3
   },
   "file_extension": ".py",
   "mimetype": "text/x-python",
   "name": "python",
   "nbconvert_exporter": "python",
   "pygments_lexer": "ipython3",
   "version": "3.9.13"
  }
 },
 "nbformat": 4,
 "nbformat_minor": 5
}
